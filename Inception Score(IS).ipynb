{
 "cells": [
  {
   "cell_type": "code",
   "execution_count": 1,
   "id": "7c985e9f",
   "metadata": {},
   "outputs": [],
   "source": [
    "import glob\n",
    "import random\n",
    "import os\n",
    "import numpy as np\n",
    "\n",
    "from torch.utils.data import Dataset\n",
    "from PIL import Image\n",
    "import torchvision.transforms as transforms\n",
    "\n",
    "class ISImageDataset(Dataset):\n",
    "    def __init__(self, root, transforms_=None):\n",
    "        self.transform = transforms.Compose(transforms_)\n",
    "\n",
    "        self.files = sorted(glob.glob(os.path.join(root) + \"/*.jpg\"))\n",
    "\n",
    "    def __getitem__(self, index):\n",
    "        img = Image.open(self.files[index % len(self.files)]).convert('RGB')      \n",
    "        item_image = self.transform(img)\n",
    "        return item_image\n",
    "\n",
    "    def __len__(self):\n",
    "        return len(self.files)"
   ]
  },
  {
   "cell_type": "code",
   "execution_count": 2,
   "id": "cc139413",
   "metadata": {},
   "outputs": [
    {
     "name": "stderr",
     "output_type": "stream",
     "text": [
      "C:\\Users\\BiXY\\anaconda3\\envs\\mmcv\\lib\\site-packages\\scipy\\__init__.py:146: UserWarning: A NumPy version >=1.16.5 and <1.23.0 is required for this version of SciPy (detected version 1.23.4\n",
      "  warnings.warn(f\"A NumPy version >={np_minversion} and <{np_maxversion}\"\n"
     ]
    }
   ],
   "source": [
    "import torch.nn as nn\n",
    "import torch.nn.functional as F\n",
    "import torch\n",
    "\n",
    "import torchvision.transforms as transforms\n",
    "from torch.utils.data import DataLoader\n",
    "from torch.autograd import Variable\n",
    "from torch.nn import functional as F\n",
    "import torch.utils.data\n",
    "from scipy.stats import entropy\n",
    "from torchvision.models.inception import inception_v3\n",
    "\n",
    "\n",
    "path = 'C:/Users/BiXY/OneDrive - 厦门大学(马来西亚分校)/AIT301/Final Project/output'"
   ]
  },
  {
   "cell_type": "code",
   "execution_count": 3,
   "id": "d76a7bdc",
   "metadata": {},
   "outputs": [
    {
     "name": "stdout",
     "output_type": "stream",
     "text": [
      "50\n"
     ]
    },
    {
     "name": "stderr",
     "output_type": "stream",
     "text": [
      "C:\\Users\\BiXY\\anaconda3\\envs\\mmcv\\lib\\site-packages\\torchvision\\transforms\\transforms.py:332: UserWarning: Argument interpolation should be of type InterpolationMode instead of int. Please, use InterpolationMode enum.\n",
      "  warnings.warn(\n"
     ]
    }
   ],
   "source": [
    "count = 0\n",
    "for root,dirs,files in os.walk(path):    #遍历统计\n",
    "      for each in files:\n",
    "             count += 1   #统计文件夹下文件个数\n",
    "print(count)\n",
    "batch_size = 64\n",
    "transforms_ = [\n",
    "    transforms.Resize((256, 256), Image.BICUBIC),\n",
    "    transforms.ToTensor(),\n",
    "    transforms.Normalize((0.485, 0.456, 0.406), (0.229, 0.224, 0.225)),\n",
    "]\n",
    "\n",
    "val_dataloader = DataLoader(\n",
    "    ISImageDataset(path, transforms_=transforms_),\n",
    "    batch_size = batch_size,\n",
    ")"
   ]
  },
  {
   "cell_type": "code",
   "execution_count": 4,
   "id": "6bf913bd",
   "metadata": {},
   "outputs": [
    {
     "name": "stdout",
     "output_type": "stream",
     "text": [
      "cuda:  True\n"
     ]
    }
   ],
   "source": [
    "cuda = True if torch.cuda.is_available() else False\n",
    "print('cuda: ',cuda)\n",
    "tensor = torch.cuda.FloatTensor\n",
    "\n",
    "inception_model = inception_v3(pretrained=True, transform_input=False).cuda()\n",
    "inception_model.eval()\n",
    "up = nn.Upsample(size=(299, 299), mode='bilinear', align_corners=False).cuda()"
   ]
  },
  {
   "cell_type": "code",
   "execution_count": 5,
   "id": "4ca4701e",
   "metadata": {},
   "outputs": [
    {
     "name": "stdout",
     "output_type": "stream",
     "text": [
      "Computing predictions using inception v3 model\n"
     ]
    }
   ],
   "source": [
    "def get_pred(x):\n",
    "    if True:\n",
    "        x = up(x)\n",
    "    x = inception_model(x)\n",
    "    return F.softmax(x, dim=1).data.cpu().numpy()\n",
    "\n",
    "print('Computing predictions using inception v3 model')\n",
    "preds = np.zeros((count, 1000))\n",
    "\n",
    "for i, data in enumerate(val_dataloader):\n",
    "    data = data.type(tensor)\n",
    "    batch_size_i = data.size()[0]\n",
    "    preds[i * batch_size:i * batch_size + batch_size_i] = get_pred(data)"
   ]
  },
  {
   "cell_type": "code",
   "execution_count": 6,
   "id": "3928d0cb",
   "metadata": {},
   "outputs": [
    {
     "name": "stdout",
     "output_type": "stream",
     "text": [
      "Computing KL Divergence\n",
      "IS is 1.9692\n",
      "The std is 0.2913\n"
     ]
    }
   ],
   "source": [
    "print('Computing KL Divergence')\n",
    "split_scores = []\n",
    "splits=10\n",
    "N = count\n",
    "for k in range(splits):\n",
    "    part = preds[k * (N // splits): (k + 1) * (N // splits), :] # split the whole data into several parts\n",
    "    py = np.mean(part, axis=0)  # marginal probability\n",
    "    scores = []\n",
    "    for i in range(part.shape[0]):\n",
    "        pyx = part[i, :]  # conditional probability\n",
    "        scores.append(entropy(pyx, py))  # compute divergence\n",
    "    split_scores.append(np.exp(np.mean(scores)))\n",
    "\n",
    "\n",
    "mean, std  = np.mean(split_scores), np.std(split_scores)\n",
    "print('IS is %.4f' % mean)\n",
    "print('The std is %.4f' % std)\n"
   ]
  },
  {
   "cell_type": "code",
   "execution_count": null,
   "id": "28fc93a5",
   "metadata": {},
   "outputs": [],
   "source": []
  }
 ],
 "metadata": {
  "kernelspec": {
   "display_name": "Python 3 (ipykernel)",
   "language": "python",
   "name": "python3"
  },
  "language_info": {
   "codemirror_mode": {
    "name": "ipython",
    "version": 3
   },
   "file_extension": ".py",
   "mimetype": "text/x-python",
   "name": "python",
   "nbconvert_exporter": "python",
   "pygments_lexer": "ipython3",
   "version": "3.9.12"
  }
 },
 "nbformat": 4,
 "nbformat_minor": 5
}
